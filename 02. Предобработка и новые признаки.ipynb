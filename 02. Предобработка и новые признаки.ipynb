{
 "cells": [
  {
   "cell_type": "markdown",
   "id": "b03af967-4629-436b-9642-e768ca2252ea",
   "metadata": {},
   "source": [
    "### Предобработка данных и создание новых признаков"
   ]
  },
  {
   "cell_type": "code",
   "execution_count": 2,
   "id": "20113ad6-47d1-4907-a664-ccd2473848fb",
   "metadata": {},
   "outputs": [],
   "source": [
    "import pandas as pd\n",
    "import numpy as np\n",
    "import matplotlib.pyplot as plt\n",
    "import seaborn as sns\n",
    "\n",
    "import warnings\n",
    "warnings.filterwarnings(\"ignore\")"
   ]
  },
  {
   "cell_type": "code",
   "execution_count": 3,
   "id": "27133d63-cc95-4168-a893-7e94e08c4290",
   "metadata": {},
   "outputs": [
    {
     "data": {
      "text/html": [
       "<div>\n",
       "<style scoped>\n",
       "    .dataframe tbody tr th:only-of-type {\n",
       "        vertical-align: middle;\n",
       "    }\n",
       "\n",
       "    .dataframe tbody tr th {\n",
       "        vertical-align: top;\n",
       "    }\n",
       "\n",
       "    .dataframe thead th {\n",
       "        text-align: right;\n",
       "    }\n",
       "</style>\n",
       "<table border=\"1\" class=\"dataframe\">\n",
       "  <thead>\n",
       "    <tr style=\"text-align: right;\">\n",
       "      <th></th>\n",
       "      <th>timestamp</th>\n",
       "      <th>open</th>\n",
       "      <th>high</th>\n",
       "      <th>low</th>\n",
       "      <th>close</th>\n",
       "      <th>volume</th>\n",
       "    </tr>\n",
       "  </thead>\n",
       "  <tbody>\n",
       "    <tr>\n",
       "      <th>0</th>\n",
       "      <td>2017-08-17 04:00:00</td>\n",
       "      <td>4261.48</td>\n",
       "      <td>4280.56</td>\n",
       "      <td>4261.48</td>\n",
       "      <td>4261.48</td>\n",
       "      <td>2.189061</td>\n",
       "    </tr>\n",
       "    <tr>\n",
       "      <th>1</th>\n",
       "      <td>2017-08-17 04:15:00</td>\n",
       "      <td>4261.48</td>\n",
       "      <td>4270.41</td>\n",
       "      <td>4261.32</td>\n",
       "      <td>4261.45</td>\n",
       "      <td>9.119865</td>\n",
       "    </tr>\n",
       "    <tr>\n",
       "      <th>2</th>\n",
       "      <td>2017-08-17 04:30:00</td>\n",
       "      <td>4280.00</td>\n",
       "      <td>4310.07</td>\n",
       "      <td>4267.99</td>\n",
       "      <td>4310.07</td>\n",
       "      <td>21.923552</td>\n",
       "    </tr>\n",
       "    <tr>\n",
       "      <th>3</th>\n",
       "      <td>2017-08-17 04:45:00</td>\n",
       "      <td>4310.07</td>\n",
       "      <td>4313.62</td>\n",
       "      <td>4291.37</td>\n",
       "      <td>4308.83</td>\n",
       "      <td>13.948531</td>\n",
       "    </tr>\n",
       "    <tr>\n",
       "      <th>4</th>\n",
       "      <td>2017-08-17 05:00:00</td>\n",
       "      <td>4308.83</td>\n",
       "      <td>4328.69</td>\n",
       "      <td>4304.31</td>\n",
       "      <td>4304.31</td>\n",
       "      <td>5.101153</td>\n",
       "    </tr>\n",
       "  </tbody>\n",
       "</table>\n",
       "</div>"
      ],
      "text/plain": [
       "             timestamp     open     high      low    close     volume\n",
       "0  2017-08-17 04:00:00  4261.48  4280.56  4261.48  4261.48   2.189061\n",
       "1  2017-08-17 04:15:00  4261.48  4270.41  4261.32  4261.45   9.119865\n",
       "2  2017-08-17 04:30:00  4280.00  4310.07  4267.99  4310.07  21.923552\n",
       "3  2017-08-17 04:45:00  4310.07  4313.62  4291.37  4308.83  13.948531\n",
       "4  2017-08-17 05:00:00  4308.83  4328.69  4304.31  4304.31   5.101153"
      ]
     },
     "execution_count": 3,
     "metadata": {},
     "output_type": "execute_result"
    }
   ],
   "source": [
    "df = pd.read_csv('bitcoin_historical_data.csv')\n",
    "df.head()"
   ]
  },
  {
   "cell_type": "code",
   "execution_count": 4,
   "id": "7ca498fa-c639-4624-9251-71fd309e8060",
   "metadata": {},
   "outputs": [
    {
     "data": {
      "text/plain": [
       "(263384, 6)"
      ]
     },
     "execution_count": 4,
     "metadata": {},
     "output_type": "execute_result"
    }
   ],
   "source": [
    "df.shape"
   ]
  },
  {
   "cell_type": "code",
   "execution_count": 5,
   "id": "9e074343-45f2-4cf9-9403-1addd3be813a",
   "metadata": {},
   "outputs": [
    {
     "name": "stdout",
     "output_type": "stream",
     "text": [
      "timestamp    0\n",
      "open         0\n",
      "high         0\n",
      "low          0\n",
      "close        0\n",
      "volume       0\n",
      "dtype: int64\n",
      "пропусков в df нет\n",
      "дубликатов в df  - 0\n"
     ]
    }
   ],
   "source": [
    "print(f'{df.isnull().sum()}')\n",
    "print('пропусков в df нет')\n",
    "print(f'дубликатов в df  - {df.duplicated().sum()}')"
   ]
  },
  {
   "cell_type": "markdown",
   "id": "196c2160-c00d-4b2e-8c36-172e40225721",
   "metadata": {},
   "source": [
    "В данных нет пропусков и дубликатов, начнем с ними работать. Создадим новые признаки."
   ]
  },
  {
   "cell_type": "markdown",
   "id": "60267f80-3045-4206-9427-d0c0f975dd4b",
   "metadata": {},
   "source": [
    "### Добавление новых признаков"
   ]
  },
  {
   "cell_type": "markdown",
   "id": "a970a3e0-47f2-461f-9f99-b5b43fc1b55f",
   "metadata": {},
   "source": [
    "##### Посчитаем скользящие средние для разных временных окон (час, 5 часов, 1 день): простую (SMA) и экспоненциальную (EMA)."
   ]
  },
  {
   "cell_type": "code",
   "execution_count": 6,
   "id": "6adae542-43c5-4d79-a8d9-81bb4d4a4a9d",
   "metadata": {},
   "outputs": [],
   "source": [
    "#24*4 = 96  количество 15-минуток в дне\n",
    "\n",
    "df['SMA_1h'] = df['close'].rolling(window=4).mean()  \n",
    "df['SMA_5h'] = df['close'].rolling(window=20).mean()  \n",
    "df['SMA_1d'] = df['close'].rolling(window=96).mean()  \n",
    "\n",
    "df['EMA_1h'] = df['close'].ewm(span=4, adjust=False).mean()  \n",
    "df['EMA_4h'] = df['close'].ewm(span=16, adjust=False).mean() "
   ]
  },
  {
   "cell_type": "markdown",
   "id": "efbb741f-a5dd-469d-9d9a-13bb05046f06",
   "metadata": {},
   "source": [
    "Посчитаем стохастик"
   ]
  },
  {
   "cell_type": "code",
   "execution_count": 7,
   "id": "211315ad-c928-4a64-8c3e-70af7e03ef9b",
   "metadata": {},
   "outputs": [],
   "source": [
    "n = 14  # Период для %K\n",
    "df['Low_n'] = df['low'].rolling(window=n).min()\n",
    "df['High_n'] = df['high'].rolling(window=n).max()\n",
    "\n",
    "df['%K'] = (df['close'] - df['Low_n']) / (df['High_n'] - df['Low_n']) * 100\n",
    "\n",
    "df['%D'] = df['%K'].rolling(window=3).mean()"
   ]
  },
  {
   "cell_type": "markdown",
   "id": "3a12c528-ed0e-4c22-81b7-1fceb7172272",
   "metadata": {},
   "source": [
    "Посчитаем macd"
   ]
  },
  {
   "cell_type": "code",
   "execution_count": 8,
   "id": "81ce24c3-98db-446d-94b0-648b528e2903",
   "metadata": {},
   "outputs": [
    {
     "data": {
      "text/html": [
       "<div>\n",
       "<style scoped>\n",
       "    .dataframe tbody tr th:only-of-type {\n",
       "        vertical-align: middle;\n",
       "    }\n",
       "\n",
       "    .dataframe tbody tr th {\n",
       "        vertical-align: top;\n",
       "    }\n",
       "\n",
       "    .dataframe thead th {\n",
       "        text-align: right;\n",
       "    }\n",
       "</style>\n",
       "<table border=\"1\" class=\"dataframe\">\n",
       "  <thead>\n",
       "    <tr style=\"text-align: right;\">\n",
       "      <th></th>\n",
       "      <th>timestamp</th>\n",
       "      <th>open</th>\n",
       "      <th>high</th>\n",
       "      <th>low</th>\n",
       "      <th>close</th>\n",
       "      <th>volume</th>\n",
       "      <th>SMA_1h</th>\n",
       "      <th>SMA_5h</th>\n",
       "      <th>SMA_1d</th>\n",
       "      <th>EMA_1h</th>\n",
       "      <th>EMA_4h</th>\n",
       "      <th>Low_n</th>\n",
       "      <th>High_n</th>\n",
       "      <th>%K</th>\n",
       "      <th>%D</th>\n",
       "      <th>EMA_short</th>\n",
       "      <th>EMA_long</th>\n",
       "      <th>MACD</th>\n",
       "      <th>Signal</th>\n",
       "      <th>MACD_Histogram</th>\n",
       "    </tr>\n",
       "  </thead>\n",
       "  <tbody>\n",
       "    <tr>\n",
       "      <th>0</th>\n",
       "      <td>2017-08-17 04:00:00</td>\n",
       "      <td>4261.48</td>\n",
       "      <td>4280.56</td>\n",
       "      <td>4261.48</td>\n",
       "      <td>4261.48</td>\n",
       "      <td>2.189061</td>\n",
       "      <td>NaN</td>\n",
       "      <td>NaN</td>\n",
       "      <td>NaN</td>\n",
       "      <td>4261.480000</td>\n",
       "      <td>4261.480000</td>\n",
       "      <td>NaN</td>\n",
       "      <td>NaN</td>\n",
       "      <td>NaN</td>\n",
       "      <td>NaN</td>\n",
       "      <td>4261.480000</td>\n",
       "      <td>4261.480000</td>\n",
       "      <td>0.000000</td>\n",
       "      <td>0.000000</td>\n",
       "      <td>0.000000</td>\n",
       "    </tr>\n",
       "    <tr>\n",
       "      <th>1</th>\n",
       "      <td>2017-08-17 04:15:00</td>\n",
       "      <td>4261.48</td>\n",
       "      <td>4270.41</td>\n",
       "      <td>4261.32</td>\n",
       "      <td>4261.45</td>\n",
       "      <td>9.119865</td>\n",
       "      <td>NaN</td>\n",
       "      <td>NaN</td>\n",
       "      <td>NaN</td>\n",
       "      <td>4261.468000</td>\n",
       "      <td>4261.476471</td>\n",
       "      <td>NaN</td>\n",
       "      <td>NaN</td>\n",
       "      <td>NaN</td>\n",
       "      <td>NaN</td>\n",
       "      <td>4261.475385</td>\n",
       "      <td>4261.477778</td>\n",
       "      <td>-0.002393</td>\n",
       "      <td>-0.000479</td>\n",
       "      <td>-0.001915</td>\n",
       "    </tr>\n",
       "    <tr>\n",
       "      <th>2</th>\n",
       "      <td>2017-08-17 04:30:00</td>\n",
       "      <td>4280.00</td>\n",
       "      <td>4310.07</td>\n",
       "      <td>4267.99</td>\n",
       "      <td>4310.07</td>\n",
       "      <td>21.923552</td>\n",
       "      <td>NaN</td>\n",
       "      <td>NaN</td>\n",
       "      <td>NaN</td>\n",
       "      <td>4280.908800</td>\n",
       "      <td>4267.193356</td>\n",
       "      <td>NaN</td>\n",
       "      <td>NaN</td>\n",
       "      <td>NaN</td>\n",
       "      <td>NaN</td>\n",
       "      <td>4268.951479</td>\n",
       "      <td>4265.077202</td>\n",
       "      <td>3.874278</td>\n",
       "      <td>0.774473</td>\n",
       "      <td>3.099805</td>\n",
       "    </tr>\n",
       "    <tr>\n",
       "      <th>3</th>\n",
       "      <td>2017-08-17 04:45:00</td>\n",
       "      <td>4310.07</td>\n",
       "      <td>4313.62</td>\n",
       "      <td>4291.37</td>\n",
       "      <td>4308.83</td>\n",
       "      <td>13.948531</td>\n",
       "      <td>4285.4575</td>\n",
       "      <td>NaN</td>\n",
       "      <td>NaN</td>\n",
       "      <td>4292.077280</td>\n",
       "      <td>4272.091785</td>\n",
       "      <td>NaN</td>\n",
       "      <td>NaN</td>\n",
       "      <td>NaN</td>\n",
       "      <td>NaN</td>\n",
       "      <td>4275.086636</td>\n",
       "      <td>4268.318150</td>\n",
       "      <td>6.768487</td>\n",
       "      <td>1.973275</td>\n",
       "      <td>4.795211</td>\n",
       "    </tr>\n",
       "    <tr>\n",
       "      <th>4</th>\n",
       "      <td>2017-08-17 05:00:00</td>\n",
       "      <td>4308.83</td>\n",
       "      <td>4328.69</td>\n",
       "      <td>4304.31</td>\n",
       "      <td>4304.31</td>\n",
       "      <td>5.101153</td>\n",
       "      <td>4296.1650</td>\n",
       "      <td>NaN</td>\n",
       "      <td>NaN</td>\n",
       "      <td>4296.970368</td>\n",
       "      <td>4275.882163</td>\n",
       "      <td>NaN</td>\n",
       "      <td>NaN</td>\n",
       "      <td>NaN</td>\n",
       "      <td>NaN</td>\n",
       "      <td>4279.582538</td>\n",
       "      <td>4270.984213</td>\n",
       "      <td>8.598326</td>\n",
       "      <td>3.298285</td>\n",
       "      <td>5.300040</td>\n",
       "    </tr>\n",
       "    <tr>\n",
       "      <th>...</th>\n",
       "      <td>...</td>\n",
       "      <td>...</td>\n",
       "      <td>...</td>\n",
       "      <td>...</td>\n",
       "      <td>...</td>\n",
       "      <td>...</td>\n",
       "      <td>...</td>\n",
       "      <td>...</td>\n",
       "      <td>...</td>\n",
       "      <td>...</td>\n",
       "      <td>...</td>\n",
       "      <td>...</td>\n",
       "      <td>...</td>\n",
       "      <td>...</td>\n",
       "      <td>...</td>\n",
       "      <td>...</td>\n",
       "      <td>...</td>\n",
       "      <td>...</td>\n",
       "      <td>...</td>\n",
       "      <td>...</td>\n",
       "    </tr>\n",
       "    <tr>\n",
       "      <th>263379</th>\n",
       "      <td>2025-02-25 14:00:00</td>\n",
       "      <td>88826.11</td>\n",
       "      <td>89139.99</td>\n",
       "      <td>88656.37</td>\n",
       "      <td>89118.92</td>\n",
       "      <td>733.718220</td>\n",
       "      <td>89011.1425</td>\n",
       "      <td>88701.7185</td>\n",
       "      <td>91897.935104</td>\n",
       "      <td>89051.245785</td>\n",
       "      <td>89037.990797</td>\n",
       "      <td>87618.9</td>\n",
       "      <td>89544.4</td>\n",
       "      <td>77.902882</td>\n",
       "      <td>73.971013</td>\n",
       "      <td>89012.640568</td>\n",
       "      <td>89270.944399</td>\n",
       "      <td>-258.303831</td>\n",
       "      <td>-412.426357</td>\n",
       "      <td>154.122526</td>\n",
       "    </tr>\n",
       "    <tr>\n",
       "      <th>263380</th>\n",
       "      <td>2025-02-25 14:15:00</td>\n",
       "      <td>89118.92</td>\n",
       "      <td>89384.65</td>\n",
       "      <td>88578.67</td>\n",
       "      <td>89165.44</td>\n",
       "      <td>714.142890</td>\n",
       "      <td>89039.6300</td>\n",
       "      <td>88727.4905</td>\n",
       "      <td>91833.106250</td>\n",
       "      <td>89096.923471</td>\n",
       "      <td>89052.984821</td>\n",
       "      <td>87618.9</td>\n",
       "      <td>89544.4</td>\n",
       "      <td>80.318878</td>\n",
       "      <td>73.639228</td>\n",
       "      <td>89036.148173</td>\n",
       "      <td>89263.129258</td>\n",
       "      <td>-226.981085</td>\n",
       "      <td>-375.337302</td>\n",
       "      <td>148.356217</td>\n",
       "    </tr>\n",
       "    <tr>\n",
       "      <th>263381</th>\n",
       "      <td>2025-02-25 14:30:00</td>\n",
       "      <td>89165.45</td>\n",
       "      <td>89179.43</td>\n",
       "      <td>87860.23</td>\n",
       "      <td>88022.00</td>\n",
       "      <td>1694.966330</td>\n",
       "      <td>88783.1175</td>\n",
       "      <td>88680.1315</td>\n",
       "      <td>91758.955208</td>\n",
       "      <td>88666.954083</td>\n",
       "      <td>88931.692489</td>\n",
       "      <td>87618.9</td>\n",
       "      <td>89544.4</td>\n",
       "      <td>20.934822</td>\n",
       "      <td>59.718861</td>\n",
       "      <td>88880.125377</td>\n",
       "      <td>89171.193757</td>\n",
       "      <td>-291.068380</td>\n",
       "      <td>-358.483518</td>\n",
       "      <td>67.415138</td>\n",
       "    </tr>\n",
       "    <tr>\n",
       "      <th>263382</th>\n",
       "      <td>2025-02-25 14:45:00</td>\n",
       "      <td>88022.01</td>\n",
       "      <td>88120.00</td>\n",
       "      <td>87077.00</td>\n",
       "      <td>87157.25</td>\n",
       "      <td>2070.201630</td>\n",
       "      <td>88365.9025</td>\n",
       "      <td>88622.8075</td>\n",
       "      <td>91680.651146</td>\n",
       "      <td>88063.072450</td>\n",
       "      <td>88722.934549</td>\n",
       "      <td>87077.0</td>\n",
       "      <td>89544.4</td>\n",
       "      <td>3.252411</td>\n",
       "      <td>34.835371</td>\n",
       "      <td>88615.067627</td>\n",
       "      <td>89022.012738</td>\n",
       "      <td>-406.945112</td>\n",
       "      <td>-368.175837</td>\n",
       "      <td>-38.769275</td>\n",
       "    </tr>\n",
       "    <tr>\n",
       "      <th>263383</th>\n",
       "      <td>2025-02-25 15:00:00</td>\n",
       "      <td>87157.25</td>\n",
       "      <td>87537.01</td>\n",
       "      <td>86565.00</td>\n",
       "      <td>86985.88</td>\n",
       "      <td>1960.130090</td>\n",
       "      <td>87832.6425</td>\n",
       "      <td>88584.7695</td>\n",
       "      <td>91598.677500</td>\n",
       "      <td>87632.195470</td>\n",
       "      <td>88518.575190</td>\n",
       "      <td>86565.0</td>\n",
       "      <td>89544.4</td>\n",
       "      <td>14.126334</td>\n",
       "      <td>12.771189</td>\n",
       "      <td>88364.423377</td>\n",
       "      <td>88871.188091</td>\n",
       "      <td>-506.764715</td>\n",
       "      <td>-395.893612</td>\n",
       "      <td>-110.871102</td>\n",
       "    </tr>\n",
       "  </tbody>\n",
       "</table>\n",
       "<p>263384 rows × 20 columns</p>\n",
       "</div>"
      ],
      "text/plain": [
       "                  timestamp      open      high       low     close  \\\n",
       "0       2017-08-17 04:00:00   4261.48   4280.56   4261.48   4261.48   \n",
       "1       2017-08-17 04:15:00   4261.48   4270.41   4261.32   4261.45   \n",
       "2       2017-08-17 04:30:00   4280.00   4310.07   4267.99   4310.07   \n",
       "3       2017-08-17 04:45:00   4310.07   4313.62   4291.37   4308.83   \n",
       "4       2017-08-17 05:00:00   4308.83   4328.69   4304.31   4304.31   \n",
       "...                     ...       ...       ...       ...       ...   \n",
       "263379  2025-02-25 14:00:00  88826.11  89139.99  88656.37  89118.92   \n",
       "263380  2025-02-25 14:15:00  89118.92  89384.65  88578.67  89165.44   \n",
       "263381  2025-02-25 14:30:00  89165.45  89179.43  87860.23  88022.00   \n",
       "263382  2025-02-25 14:45:00  88022.01  88120.00  87077.00  87157.25   \n",
       "263383  2025-02-25 15:00:00  87157.25  87537.01  86565.00  86985.88   \n",
       "\n",
       "             volume      SMA_1h      SMA_5h        SMA_1d        EMA_1h  \\\n",
       "0          2.189061         NaN         NaN           NaN   4261.480000   \n",
       "1          9.119865         NaN         NaN           NaN   4261.468000   \n",
       "2         21.923552         NaN         NaN           NaN   4280.908800   \n",
       "3         13.948531   4285.4575         NaN           NaN   4292.077280   \n",
       "4          5.101153   4296.1650         NaN           NaN   4296.970368   \n",
       "...             ...         ...         ...           ...           ...   \n",
       "263379   733.718220  89011.1425  88701.7185  91897.935104  89051.245785   \n",
       "263380   714.142890  89039.6300  88727.4905  91833.106250  89096.923471   \n",
       "263381  1694.966330  88783.1175  88680.1315  91758.955208  88666.954083   \n",
       "263382  2070.201630  88365.9025  88622.8075  91680.651146  88063.072450   \n",
       "263383  1960.130090  87832.6425  88584.7695  91598.677500  87632.195470   \n",
       "\n",
       "              EMA_4h    Low_n   High_n         %K         %D     EMA_short  \\\n",
       "0        4261.480000      NaN      NaN        NaN        NaN   4261.480000   \n",
       "1        4261.476471      NaN      NaN        NaN        NaN   4261.475385   \n",
       "2        4267.193356      NaN      NaN        NaN        NaN   4268.951479   \n",
       "3        4272.091785      NaN      NaN        NaN        NaN   4275.086636   \n",
       "4        4275.882163      NaN      NaN        NaN        NaN   4279.582538   \n",
       "...              ...      ...      ...        ...        ...           ...   \n",
       "263379  89037.990797  87618.9  89544.4  77.902882  73.971013  89012.640568   \n",
       "263380  89052.984821  87618.9  89544.4  80.318878  73.639228  89036.148173   \n",
       "263381  88931.692489  87618.9  89544.4  20.934822  59.718861  88880.125377   \n",
       "263382  88722.934549  87077.0  89544.4   3.252411  34.835371  88615.067627   \n",
       "263383  88518.575190  86565.0  89544.4  14.126334  12.771189  88364.423377   \n",
       "\n",
       "            EMA_long        MACD      Signal  MACD_Histogram  \n",
       "0        4261.480000    0.000000    0.000000        0.000000  \n",
       "1        4261.477778   -0.002393   -0.000479       -0.001915  \n",
       "2        4265.077202    3.874278    0.774473        3.099805  \n",
       "3        4268.318150    6.768487    1.973275        4.795211  \n",
       "4        4270.984213    8.598326    3.298285        5.300040  \n",
       "...              ...         ...         ...             ...  \n",
       "263379  89270.944399 -258.303831 -412.426357      154.122526  \n",
       "263380  89263.129258 -226.981085 -375.337302      148.356217  \n",
       "263381  89171.193757 -291.068380 -358.483518       67.415138  \n",
       "263382  89022.012738 -406.945112 -368.175837      -38.769275  \n",
       "263383  88871.188091 -506.764715 -395.893612     -110.871102  \n",
       "\n",
       "[263384 rows x 20 columns]"
      ]
     },
     "execution_count": 8,
     "metadata": {},
     "output_type": "execute_result"
    }
   ],
   "source": [
    "short_window = 12  \n",
    "long_window = 26  \n",
    "signal_window = 9\n",
    "\n",
    "df['EMA_short'] = df['close'].ewm(span=short_window, adjust=False).mean()\n",
    "df['EMA_long'] = df['close'].ewm(span=long_window, adjust=False).mean()\n",
    "\n",
    "df['MACD'] = df['EMA_short'] - df['EMA_long']\n",
    "\n",
    "df['Signal'] = df['MACD'].ewm(span=signal_window, adjust=False).mean()\n",
    "df['MACD_Histogram'] = df['MACD'] - df['Signal']\n",
    "df"
   ]
  },
  {
   "cell_type": "markdown",
   "id": "571a078b-624b-4d56-9a26-42f4c17826bb",
   "metadata": {},
   "source": [
    "Посчитаем ценовой осциллятор"
   ]
  },
  {
   "cell_type": "code",
   "execution_count": 9,
   "id": "8f3c22ad-68f4-40d4-81f5-97bd36971396",
   "metadata": {},
   "outputs": [],
   "source": [
    "df['Price_oscillator'] = df['EMA_short'] - df['EMA_long']"
   ]
  },
  {
   "cell_type": "markdown",
   "id": "2c204da3-2a07-4904-bbb5-e12175fc2555",
   "metadata": {},
   "source": [
    "Посчитаем RSI."
   ]
  },
  {
   "cell_type": "code",
   "execution_count": 10,
   "id": "857c931d-71a6-4464-a5e2-9c498164b1aa",
   "metadata": {},
   "outputs": [],
   "source": [
    "delta = df['close'].diff()\n",
    "gain = (delta.where(delta > 0, 0)).rolling(window=16).mean() \n",
    "loss = (-delta.where(delta < 0, 0)).rolling(window=16).mean()\n",
    "rs = gain / loss\n",
    "df['RSI'] = 100 - (100 / (1 + rs))"
   ]
  },
  {
   "cell_type": "markdown",
   "id": "1e456f19-2321-423f-a2cc-a24bf0bc09b9",
   "metadata": {},
   "source": [
    "Для полос Боллинджера потребуется тоже новые признаки"
   ]
  },
  {
   "cell_type": "code",
   "execution_count": 11,
   "id": "06856c37-3c88-44d6-9ec8-0a7aeecd95c9",
   "metadata": {},
   "outputs": [],
   "source": [
    "df['Std_5h'] = df['close'].rolling(window=20).std()\n",
    "\n",
    "df['UpperBand_5h'] = df['SMA_5h'] + (2 * df['Std_5h'])\n",
    "df['LowerBand_5h'] = df['SMA_5h'] - (2 * df['Std_5h'])\n",
    "\n",
    "df['Bandwidth_5h'] = (df['UpperBand_5h'] - df['LowerBand_5h']) / df['SMA_5h'] * 100"
   ]
  },
  {
   "cell_type": "markdown",
   "id": "707047fd-959f-405a-9996-eb68ba03552c",
   "metadata": {},
   "source": [
    "##### Посчитаем ATR."
   ]
  },
  {
   "cell_type": "code",
   "execution_count": 12,
   "id": "84166cf4-f91c-401a-a44a-bf14797e8748",
   "metadata": {},
   "outputs": [],
   "source": [
    "df['TR'] = np.maximum(\n",
    "    df['high'] - df['low'],\n",
    "    np.maximum(abs(df['high'] - df['close'].shift()), abs(df['low'] - df['close'].shift()))\n",
    ")\n",
    "df['ATR_1h'] = df['TR'].rolling(window=4).mean() \n",
    "df['ATR_4h'] = df['TR'].rolling(window=16).mean()  "
   ]
  },
  {
   "cell_type": "markdown",
   "id": "b053923c-1e20-48ca-a95a-a43fa0d4524e",
   "metadata": {},
   "source": [
    "Добавим также признаки на основе времени."
   ]
  },
  {
   "cell_type": "code",
   "execution_count": 13,
   "id": "ed16f451-6f11-47f3-b1d2-afb5e45a4beb",
   "metadata": {},
   "outputs": [],
   "source": [
    "df['date'] = pd.to_datetime(df['timestamp']).dt.date\n",
    "df['date'] = pd.to_datetime(df['date'])"
   ]
  },
  {
   "cell_type": "code",
   "execution_count": 14,
   "id": "3cdde62f-2dfd-43c8-9210-a54a006a3f21",
   "metadata": {},
   "outputs": [],
   "source": [
    "df['day_of_week'] = pd.to_datetime(df['timestamp']).dt.dayofweek"
   ]
  },
  {
   "cell_type": "markdown",
   "id": "1b26fa6f-f5c7-4e5c-b67d-27d48cd9039a",
   "metadata": {},
   "source": [
    "Посмотрим на изменения цен за промежутки времени (15 минут, час, 4 часа), волатильность, а так же диапазон цен за период."
   ]
  },
  {
   "cell_type": "code",
   "execution_count": 15,
   "id": "37ea3325-25a9-457c-83e5-306a81474da4",
   "metadata": {},
   "outputs": [],
   "source": [
    "df['price_change_15m'] = df['close'].pct_change() \n",
    "df['price_change_1h'] = df['close'].pct_change(4)  \n",
    "df['price_change_4h'] = df['close'].pct_change(16)  \n",
    "\n",
    "df['volatility_1h'] = df['close'].rolling(window=4).std()  \n",
    "df['volatility_4h'] = df['close'].rolling(window=16).std() \n",
    "\n",
    "df['high_low_diff_15m'] = df['high'] - df['low']\n",
    "df['high_low_diff_1h'] = df['high'].rolling(window=4).max() - df['low'].rolling(window=4).min()"
   ]
  },
  {
   "cell_type": "markdown",
   "id": "ab98b745-cf5e-4002-b54e-0f558039fd62",
   "metadata": {},
   "source": [
    "Добавим ставку ФРС в момент сделки."
   ]
  },
  {
   "cell_type": "code",
   "execution_count": 16,
   "id": "9a912ccd-2157-4f41-9c4f-a0f094de84c4",
   "metadata": {},
   "outputs": [],
   "source": [
    "fed_rates = pd.read_excel('сша-учётная-ставка-фрс.xlsx')\n",
    "fed_rates['date'] = pd.to_datetime(fed_rates['Дата'])\n",
    "del fed_rates['Дата']\n",
    "fed_rates = fed_rates.sort_values('date')\n",
    "fed_rates.rename(columns={'США учётная ставка ФРС': 'FRS_rate'}, inplace=True)\n",
    "df['timestamp'] = pd.to_datetime(df['timestamp'])\n",
    "\n",
    "df['timestamp_ns'] = df['timestamp'].astype('int64')\n",
    "fed_rates['date_ns'] = fed_rates['date'].astype('int64')\n",
    "\n",
    "df = df.sort_values('timestamp_ns')\n",
    "fed_rates = fed_rates.sort_values('date_ns')\n",
    "\n",
    "df = pd.merge_asof(df, fed_rates, left_on='timestamp_ns', right_on='date_ns', direction='backward')"
   ]
  },
  {
   "cell_type": "markdown",
   "id": "7bb859b4-d127-4c21-b976-c30af6ebcc16",
   "metadata": {},
   "source": [
    "Добавим так же целевой признак, который будем прогнрозировать - цену через 15 минут и изменение цены через 15 минут (знак)."
   ]
  },
  {
   "cell_type": "code",
   "execution_count": 17,
   "id": "921e6dc2-139f-457b-8990-5e73cc476866",
   "metadata": {},
   "outputs": [],
   "source": [
    "df['target_price_15m'] = df['close'].shift(-1) \n",
    "df['target_change_15m_pct'] = df['close'].pct_change(4).shift(-1)\n",
    "df['target_change_15m_abs'] = df['close'].shift(-1) - df['close']\n",
    "df['target_change_ind_15m'] = (df['target_change_15m_abs']/df['target_change_15m_abs'].abs())"
   ]
  },
  {
   "cell_type": "markdown",
   "id": "ef21e285-3faf-464d-a6b3-0d53afcee61a",
   "metadata": {},
   "source": [
    "Удалим первые строчки, т.к. в них значения в некоторых столбцах NaN."
   ]
  },
  {
   "cell_type": "code",
   "execution_count": 18,
   "id": "d6223f4e-efb3-44e8-b2aa-8e29467bd83a",
   "metadata": {},
   "outputs": [],
   "source": [
    "df = df.dropna()"
   ]
  },
  {
   "cell_type": "code",
   "execution_count": 19,
   "id": "e4f48d8c-20ba-4f53-9fe3-0c0bb31886f5",
   "metadata": {},
   "outputs": [],
   "source": [
    "df.drop(columns=['timestamp_ns', 'date_ns', 'date_y'], inplace=True)\n",
    "df.rename(columns={'date_x': 'date'}, inplace=True)"
   ]
  },
  {
   "cell_type": "code",
   "execution_count": 20,
   "id": "b611857f-fff6-44cd-9a02-d2a248471541",
   "metadata": {},
   "outputs": [
    {
     "data": {
      "text/plain": [
       "Index(['timestamp', 'open', 'high', 'low', 'close', 'volume', 'SMA_1h',\n",
       "       'SMA_5h', 'SMA_1d', 'EMA_1h', 'EMA_4h', 'Low_n', 'High_n', '%K', '%D',\n",
       "       'EMA_short', 'EMA_long', 'MACD', 'Signal', 'MACD_Histogram',\n",
       "       'Price_oscillator', 'RSI', 'Std_5h', 'UpperBand_5h', 'LowerBand_5h',\n",
       "       'Bandwidth_5h', 'TR', 'ATR_1h', 'ATR_4h', 'date', 'day_of_week',\n",
       "       'price_change_15m', 'price_change_1h', 'price_change_4h',\n",
       "       'volatility_1h', 'volatility_4h', 'high_low_diff_15m',\n",
       "       'high_low_diff_1h', 'FRS_rate', 'target_price_15m',\n",
       "       'target_change_15m_pct', 'target_change_15m_abs',\n",
       "       'target_change_ind_15m'],\n",
       "      dtype='object')"
      ]
     },
     "execution_count": 20,
     "metadata": {},
     "output_type": "execute_result"
    }
   ],
   "source": [
    "df.columns"
   ]
  },
  {
   "cell_type": "markdown",
   "id": "1e3267cb-b6c4-4470-897f-61568b1f7071",
   "metadata": {},
   "source": [
    "Мы получили таблицу с нужными нам признаками, с ней в дальнейшем будем работать."
   ]
  },
  {
   "cell_type": "code",
   "execution_count": 21,
   "id": "7f9ce25e-ccfd-4f16-9291-b6ab5f839489",
   "metadata": {},
   "outputs": [],
   "source": [
    "df.to_csv(\"data.csv\", index=False, encoding=\"utf-8\")  "
   ]
  },
  {
   "cell_type": "code",
   "execution_count": null,
   "id": "a6f0e993-93c4-4c1f-a74f-2ea8bdfbc41a",
   "metadata": {},
   "outputs": [],
   "source": []
  }
 ],
 "metadata": {
  "kernelspec": {
   "display_name": "Python 3 (ipykernel)",
   "language": "python",
   "name": "python3"
  },
  "language_info": {
   "codemirror_mode": {
    "name": "ipython",
    "version": 3
   },
   "file_extension": ".py",
   "mimetype": "text/x-python",
   "name": "python",
   "nbconvert_exporter": "python",
   "pygments_lexer": "ipython3",
   "version": "3.12.4"
  }
 },
 "nbformat": 4,
 "nbformat_minor": 5
}
