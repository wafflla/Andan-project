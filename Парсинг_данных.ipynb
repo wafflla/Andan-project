{
 "cells": [
  {
   "cell_type": "code",
   "execution_count": 39,
   "id": "9c8a422e-ac1b-4623-92bf-aea277f1ea38",
   "metadata": {},
   "outputs": [
    {
     "name": "stdout",
     "output_type": "stream",
     "text": [
      "            timestamp     open     high      low    close     volume\n",
      "0 2017-08-17 04:00:00  4261.48  4280.56  4261.48  4261.48   2.189061\n",
      "1 2017-08-17 04:15:00  4261.48  4270.41  4261.32  4261.45   9.119865\n",
      "2 2017-08-17 04:30:00  4280.00  4310.07  4267.99  4310.07  21.923552\n",
      "3 2017-08-17 04:45:00  4310.07  4313.62  4291.37  4308.83  13.948531\n",
      "4 2017-08-17 05:00:00  4308.83  4328.69  4304.31  4304.31   5.101153\n",
      "Количество строк: 263384\n"
     ]
    }
   ],
   "source": [
    "import ccxt\n",
    "import pandas as pd\n",
    "import time\n",
    "\n",
    "# Создание экземпляра биржи Binance\n",
    "binance = ccxt.binance()\n",
    "\n",
    "# Определение символа и таймфрейма\n",
    "symbol = 'BTC/USDT'\n",
    "timeframe = '15m'  # Данные за каждые 15 минут\n",
    "\n",
    "# Укажите начальную дату (например, 1 января 2017 года)\n",
    "since = binance.parse8601('2017-01-01T00:00:00Z')\n",
    "\n",
    "# Список для хранения всех данных\n",
    "all_ohlcv = []\n",
    "\n",
    "# Получение данных по частям\n",
    "while True:\n",
    "    # Запрос данных\n",
    "    ohlcv = binance.fetch_ohlcv(symbol, timeframe, since=since)\n",
    "    \n",
    "    # Если данных больше нет, выходим из цикла\n",
    "    if len(ohlcv) == 0:\n",
    "        break\n",
    "    \n",
    "    # Добавляем данные в список\n",
    "    all_ohlcv += ohlcv\n",
    "    \n",
    "    # Обновляем начальную дату для следующего запроса\n",
    "    since = ohlcv[-1][0] + 1  # Следующая миллисекунда после последней свечи\n",
    "    \n",
    "    # Пауза, чтобы не превысить лимиты API\n",
    "    time.sleep(1)  # 1 секунда\n",
    "\n",
    "# Преобразование данных в DataFrame\n",
    "df = pd.DataFrame(all_ohlcv, columns=['timestamp', 'open', 'high', 'low', 'close', 'volume'])\n",
    "df['timestamp'] = pd.to_datetime(df['timestamp'], unit='ms')\n",
    "\n",
    "# Сохранение в CSV\n",
    "df.to_csv('bitcoin_historical_data.csv', index=False)\n",
    "\n",
    "# Вывод первых строк данных и количества строк\n",
    "print(df.head())\n",
    "print(f\"Количество строк: {len(df)}\")"
   ]
  },
  {
   "cell_type": "code",
   "execution_count": 41,
   "id": "d15ebc7c-e427-4f75-bffd-9cbfdb65eeba",
   "metadata": {},
   "outputs": [
    {
     "data": {
      "text/html": [
       "<a href='bitcoin_historical_data.csv' target='_blank'>bitcoin_historical_data.csv</a><br>"
      ],
      "text/plain": [
       "/Users/macbook/bitcoin_historical_data.csv"
      ]
     },
     "execution_count": 41,
     "metadata": {},
     "output_type": "execute_result"
    }
   ],
   "source": [
    "from IPython.display import FileLink\n",
    "FileLink('bitcoin_historical_data.csv')"
   ]
  },
  {
   "cell_type": "code",
   "execution_count": 43,
   "id": "d6887f00-1cf1-4d40-bde7-c983dec00608",
   "metadata": {},
   "outputs": [
    {
     "name": "stdout",
     "output_type": "stream",
     "text": [
      "Ошибка: API вернул статус 500\n",
      "Ответ API: {\"Message\":\"An error has occurred.\"}\n"
     ]
    }
   ],
   "source": [
    "import requests\n",
    "import pandas as pd\n",
    "\n",
    "# URL для получения данных о процентной ставке ФРС\n",
    "url = \"https://api.tradingeconomics.com/historical/country/united states/indicator/interest rate\"\n",
    "api_key = 'YOUR_API_KEY'  # Замените на ваш API-ключ\n",
    "\n",
    "# Параметры запроса\n",
    "params = {\n",
    "    'c': api_key,\n",
    "    's': 'fedfunds',\n",
    "    'start': '2017-01-01',\n",
    "    'end': '2025-02-25'\n",
    "}\n",
    "\n",
    "# Выполнение GET-запроса\n",
    "response = requests.get(url, params=params)\n",
    "\n",
    "# Проверка успешности запроса\n",
    "if response.status_code == 200:\n",
    "    data = response.json()\n",
    "    # Преобразование данных в DataFrame\n",
    "    df = pd.DataFrame(data)\n",
    "    # Сохранение в CSV\n",
    "    df.to_csv('fed_interest_rate_history.csv', index=False)\n",
    "    print(df.head())\n",
    "else:\n",
    "    print(f\"Ошибка: API вернул статус {response.status_code}\")\n",
    "    print(\"Ответ API:\", response.text)"
   ]
  }
 ],
 "metadata": {
  "kernelspec": {
   "display_name": "Python 3 (ipykernel)",
   "language": "python",
   "name": "python3"
  },
  "language_info": {
   "codemirror_mode": {
    "name": "ipython",
    "version": 3
   },
   "file_extension": ".py",
   "mimetype": "text/x-python",
   "name": "python",
   "nbconvert_exporter": "python",
   "pygments_lexer": "ipython3",
   "version": "3.12.4"
  }
 },
 "nbformat": 4,
 "nbformat_minor": 5
}
