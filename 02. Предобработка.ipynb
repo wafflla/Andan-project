{
 "cells": [
  {
   "cell_type": "markdown",
   "id": "b03af967-4629-436b-9642-e768ca2252ea",
   "metadata": {},
   "source": [
    "### Предобработка данных и создание новых признаков"
   ]
  },
  {
   "cell_type": "code",
   "execution_count": 2,
   "id": "20113ad6-47d1-4907-a664-ccd2473848fb",
   "metadata": {},
   "outputs": [],
   "source": [
    "import pandas as pd\n",
    "import numpy as np\n",
    "import matplotlib.pyplot as plt\n",
    "import seaborn as sns\n",
    "\n",
    "import warnings\n",
    "warnings.filterwarnings(\"ignore\")"
   ]
  },
  {
   "cell_type": "code",
   "execution_count": 3,
   "id": "27133d63-cc95-4168-a893-7e94e08c4290",
   "metadata": {},
   "outputs": [
    {
     "data": {
      "text/html": [
       "<div>\n",
       "<style scoped>\n",
       "    .dataframe tbody tr th:only-of-type {\n",
       "        vertical-align: middle;\n",
       "    }\n",
       "\n",
       "    .dataframe tbody tr th {\n",
       "        vertical-align: top;\n",
       "    }\n",
       "\n",
       "    .dataframe thead th {\n",
       "        text-align: right;\n",
       "    }\n",
       "</style>\n",
       "<table border=\"1\" class=\"dataframe\">\n",
       "  <thead>\n",
       "    <tr style=\"text-align: right;\">\n",
       "      <th></th>\n",
       "      <th>timestamp</th>\n",
       "      <th>open</th>\n",
       "      <th>high</th>\n",
       "      <th>low</th>\n",
       "      <th>close</th>\n",
       "      <th>volume</th>\n",
       "    </tr>\n",
       "  </thead>\n",
       "  <tbody>\n",
       "    <tr>\n",
       "      <th>0</th>\n",
       "      <td>2017-08-17 04:00:00</td>\n",
       "      <td>4261.48</td>\n",
       "      <td>4280.56</td>\n",
       "      <td>4261.48</td>\n",
       "      <td>4261.48</td>\n",
       "      <td>2.189061</td>\n",
       "    </tr>\n",
       "    <tr>\n",
       "      <th>1</th>\n",
       "      <td>2017-08-17 04:15:00</td>\n",
       "      <td>4261.48</td>\n",
       "      <td>4270.41</td>\n",
       "      <td>4261.32</td>\n",
       "      <td>4261.45</td>\n",
       "      <td>9.119865</td>\n",
       "    </tr>\n",
       "    <tr>\n",
       "      <th>2</th>\n",
       "      <td>2017-08-17 04:30:00</td>\n",
       "      <td>4280.00</td>\n",
       "      <td>4310.07</td>\n",
       "      <td>4267.99</td>\n",
       "      <td>4310.07</td>\n",
       "      <td>21.923552</td>\n",
       "    </tr>\n",
       "    <tr>\n",
       "      <th>3</th>\n",
       "      <td>2017-08-17 04:45:00</td>\n",
       "      <td>4310.07</td>\n",
       "      <td>4313.62</td>\n",
       "      <td>4291.37</td>\n",
       "      <td>4308.83</td>\n",
       "      <td>13.948531</td>\n",
       "    </tr>\n",
       "    <tr>\n",
       "      <th>4</th>\n",
       "      <td>2017-08-17 05:00:00</td>\n",
       "      <td>4308.83</td>\n",
       "      <td>4328.69</td>\n",
       "      <td>4304.31</td>\n",
       "      <td>4304.31</td>\n",
       "      <td>5.101153</td>\n",
       "    </tr>\n",
       "  </tbody>\n",
       "</table>\n",
       "</div>"
      ],
      "text/plain": [
       "             timestamp     open     high      low    close     volume\n",
       "0  2017-08-17 04:00:00  4261.48  4280.56  4261.48  4261.48   2.189061\n",
       "1  2017-08-17 04:15:00  4261.48  4270.41  4261.32  4261.45   9.119865\n",
       "2  2017-08-17 04:30:00  4280.00  4310.07  4267.99  4310.07  21.923552\n",
       "3  2017-08-17 04:45:00  4310.07  4313.62  4291.37  4308.83  13.948531\n",
       "4  2017-08-17 05:00:00  4308.83  4328.69  4304.31  4304.31   5.101153"
      ]
     },
     "execution_count": 3,
     "metadata": {},
     "output_type": "execute_result"
    }
   ],
   "source": [
    "df = pd.read_csv('bitcoin_historical_data.csv')\n",
    "df.head()"
   ]
  },
  {
   "cell_type": "code",
   "execution_count": 4,
   "id": "7ca498fa-c639-4624-9251-71fd309e8060",
   "metadata": {},
   "outputs": [
    {
     "data": {
      "text/plain": [
       "(263384, 6)"
      ]
     },
     "execution_count": 4,
     "metadata": {},
     "output_type": "execute_result"
    }
   ],
   "source": [
    "df.shape"
   ]
  },
  {
   "cell_type": "code",
   "execution_count": 5,
   "id": "9e074343-45f2-4cf9-9403-1addd3be813a",
   "metadata": {},
   "outputs": [
    {
     "name": "stdout",
     "output_type": "stream",
     "text": [
      "timestamp    0\n",
      "open         0\n",
      "high         0\n",
      "low          0\n",
      "close        0\n",
      "volume       0\n",
      "dtype: int64\n",
      "пропусков в df нет\n",
      "дубликатов в df  - 0\n"
     ]
    }
   ],
   "source": [
    "print(f'{df.isnull().sum()}')\n",
    "print('пропусков в df нет')\n",
    "print(f'дубликатов в df  - {df.duplicated().sum()}')"
   ]
  },
  {
   "cell_type": "markdown",
   "id": "196c2160-c00d-4b2e-8c36-172e40225721",
   "metadata": {},
   "source": [
    "В данных нет пропусков и дубликатов, начнем с ними работать. Создадим новые признаки."
   ]
  },
  {
   "cell_type": "markdown",
   "id": "a970a3e0-47f2-461f-9f99-b5b43fc1b55f",
   "metadata": {},
   "source": [
    "Посчитаем скользящие средние для разных временных окон (час, 4 часа, 1 день): простую (EMA) и экспоненциальную (SMA)."
   ]
  },
  {
   "cell_type": "code",
   "execution_count": 7,
   "id": "6adae542-43c5-4d79-a8d9-81bb4d4a4a9d",
   "metadata": {},
   "outputs": [],
   "source": [
    "#24*4 = 96  количество 15-минуток в дне\n",
    "\n",
    "df['SMA_1h'] = df['close'].rolling(window=4).mean()  \n",
    "df['SMA_4h'] = df['close'].rolling(window=16).mean()  \n",
    "df['SMA_1d'] = df['close'].rolling(window=96).mean()  \n",
    "\n",
    "df['EMA_1h'] = df['close'].ewm(span=4, adjust=False).mean()  \n",
    "df['EMA_4h'] = df['close'].ewm(span=16, adjust=False).mean() "
   ]
  },
  {
   "cell_type": "markdown",
   "id": "2c204da3-2a07-4904-bbb5-e12175fc2555",
   "metadata": {},
   "source": [
    "Посчитаем RSI."
   ]
  },
  {
   "cell_type": "code",
   "execution_count": 8,
   "id": "857c931d-71a6-4464-a5e2-9c498164b1aa",
   "metadata": {},
   "outputs": [],
   "source": [
    "delta = df['close'].diff()\n",
    "gain = (delta.where(delta > 0, 0)).rolling(window=16).mean() \n",
    "loss = (-delta.where(delta < 0, 0)).rolling(window=16).mean()\n",
    "rs = gain / loss\n",
    "df['RSI'] = 100 - (100 / (1 + rs))"
   ]
  },
  {
   "cell_type": "markdown",
   "id": "707047fd-959f-405a-9996-eb68ba03552c",
   "metadata": {},
   "source": [
    "Посчитаем ATR."
   ]
  },
  {
   "cell_type": "code",
   "execution_count": 9,
   "id": "84166cf4-f91c-401a-a44a-bf14797e8748",
   "metadata": {},
   "outputs": [],
   "source": [
    "df['TR'] = np.maximum(\n",
    "    df['high'] - df['low'],\n",
    "    np.maximum(abs(df['high'] - df['close'].shift()), abs(df['low'] - df['close'].shift()))\n",
    ")\n",
    "df['ATR_1h'] = df['TR'].rolling(window=4).mean() \n",
    "df['ATR_4h'] = df['TR'].rolling(window=16).mean()  "
   ]
  },
  {
   "cell_type": "markdown",
   "id": "b053923c-1e20-48ca-a95a-a43fa0d4524e",
   "metadata": {},
   "source": [
    "Добавим также признаки на основе времени (вдруг пригодится)."
   ]
  },
  {
   "cell_type": "code",
   "execution_count": 10,
   "id": "3cdde62f-2dfd-43c8-9210-a54a006a3f21",
   "metadata": {},
   "outputs": [],
   "source": [
    "df['day_of_week'] = pd.to_datetime(df['timestamp']).dt.dayofweek"
   ]
  },
  {
   "cell_type": "markdown",
   "id": "1b26fa6f-f5c7-4e5c-b67d-27d48cd9039a",
   "metadata": {},
   "source": [
    "Посмотрим на изменения цен за промежутки времени (15 минут, час, 4 часа), волатильность, а так же диапазон цен за период."
   ]
  },
  {
   "cell_type": "code",
   "execution_count": 12,
   "id": "37ea3325-25a9-457c-83e5-306a81474da4",
   "metadata": {},
   "outputs": [],
   "source": [
    "df['price_change_15m'] = df['close'].pct_change() \n",
    "df['price_change_1h'] = df['close'].pct_change(4)  \n",
    "df['price_change_4h'] = df['close'].pct_change(16)  \n",
    "\n",
    "df['volatility_1h'] = df['close'].rolling(window=4).std()  \n",
    "df['volatility_4h'] = df['close'].rolling(window=16).std() \n",
    "\n",
    "df['high_low_diff_15m'] = df['high'] - df['low']\n",
    "df['high_low_diff_1h'] = df['high'].rolling(window=4).max() - df['low'].rolling(window=4).min()"
   ]
  },
  {
   "cell_type": "markdown",
   "id": "7bb859b4-d127-4c21-b976-c30af6ebcc16",
   "metadata": {},
   "source": [
    "Добавим так же целевые признаки, которые, скорее всего, будем прогнрозировать - цену через 4 интервала (час) и изменение цены через час."
   ]
  },
  {
   "cell_type": "code",
   "execution_count": 13,
   "id": "921e6dc2-139f-457b-8990-5e73cc476866",
   "metadata": {},
   "outputs": [],
   "source": [
    "df['target_price_1h'] = df['close'].shift(-4) \n",
    "df['target_price_4h'] = df['close'].shift(-16) \n",
    "\n",
    "df['target_change_1h'] = df['close'].pct_change(4).shift(-4)  \n",
    "df['target_change_4h'] = df['close'].pct_change(16).shift(-16) "
   ]
  },
  {
   "cell_type": "code",
   "execution_count": 14,
   "id": "479cc256-c550-4d7e-898a-2c5066c96a9b",
   "metadata": {},
   "outputs": [
    {
     "data": {
      "text/html": [
       "<div>\n",
       "<style scoped>\n",
       "    .dataframe tbody tr th:only-of-type {\n",
       "        vertical-align: middle;\n",
       "    }\n",
       "\n",
       "    .dataframe tbody tr th {\n",
       "        vertical-align: top;\n",
       "    }\n",
       "\n",
       "    .dataframe thead th {\n",
       "        text-align: right;\n",
       "    }\n",
       "</style>\n",
       "<table border=\"1\" class=\"dataframe\">\n",
       "  <thead>\n",
       "    <tr style=\"text-align: right;\">\n",
       "      <th></th>\n",
       "      <th>timestamp</th>\n",
       "      <th>open</th>\n",
       "      <th>high</th>\n",
       "      <th>low</th>\n",
       "      <th>close</th>\n",
       "      <th>volume</th>\n",
       "      <th>SMA_1h</th>\n",
       "      <th>SMA_4h</th>\n",
       "      <th>SMA_1d</th>\n",
       "      <th>EMA_1h</th>\n",
       "      <th>...</th>\n",
       "      <th>price_change_1h</th>\n",
       "      <th>price_change_4h</th>\n",
       "      <th>volatility_1h</th>\n",
       "      <th>volatility_4h</th>\n",
       "      <th>high_low_diff_15m</th>\n",
       "      <th>high_low_diff_1h</th>\n",
       "      <th>target_price_1h</th>\n",
       "      <th>target_price_4h</th>\n",
       "      <th>target_change_1h</th>\n",
       "      <th>target_change_4h</th>\n",
       "    </tr>\n",
       "  </thead>\n",
       "  <tbody>\n",
       "    <tr>\n",
       "      <th>0</th>\n",
       "      <td>2017-08-17 04:00:00</td>\n",
       "      <td>4261.48</td>\n",
       "      <td>4280.56</td>\n",
       "      <td>4261.48</td>\n",
       "      <td>4261.48</td>\n",
       "      <td>2.189061</td>\n",
       "      <td>NaN</td>\n",
       "      <td>NaN</td>\n",
       "      <td>NaN</td>\n",
       "      <td>4261.480000</td>\n",
       "      <td>...</td>\n",
       "      <td>NaN</td>\n",
       "      <td>NaN</td>\n",
       "      <td>NaN</td>\n",
       "      <td>NaN</td>\n",
       "      <td>19.08</td>\n",
       "      <td>NaN</td>\n",
       "      <td>4304.31</td>\n",
       "      <td>4360.71</td>\n",
       "      <td>0.010050</td>\n",
       "      <td>0.023285</td>\n",
       "    </tr>\n",
       "    <tr>\n",
       "      <th>1</th>\n",
       "      <td>2017-08-17 04:15:00</td>\n",
       "      <td>4261.48</td>\n",
       "      <td>4270.41</td>\n",
       "      <td>4261.32</td>\n",
       "      <td>4261.45</td>\n",
       "      <td>9.119865</td>\n",
       "      <td>NaN</td>\n",
       "      <td>NaN</td>\n",
       "      <td>NaN</td>\n",
       "      <td>4261.468000</td>\n",
       "      <td>...</td>\n",
       "      <td>NaN</td>\n",
       "      <td>NaN</td>\n",
       "      <td>NaN</td>\n",
       "      <td>NaN</td>\n",
       "      <td>9.09</td>\n",
       "      <td>NaN</td>\n",
       "      <td>4320.00</td>\n",
       "      <td>4360.70</td>\n",
       "      <td>0.013739</td>\n",
       "      <td>0.023290</td>\n",
       "    </tr>\n",
       "    <tr>\n",
       "      <th>2</th>\n",
       "      <td>2017-08-17 04:30:00</td>\n",
       "      <td>4280.00</td>\n",
       "      <td>4310.07</td>\n",
       "      <td>4267.99</td>\n",
       "      <td>4310.07</td>\n",
       "      <td>21.923552</td>\n",
       "      <td>NaN</td>\n",
       "      <td>NaN</td>\n",
       "      <td>NaN</td>\n",
       "      <td>4280.908800</td>\n",
       "      <td>...</td>\n",
       "      <td>NaN</td>\n",
       "      <td>NaN</td>\n",
       "      <td>NaN</td>\n",
       "      <td>NaN</td>\n",
       "      <td>42.08</td>\n",
       "      <td>NaN</td>\n",
       "      <td>4291.37</td>\n",
       "      <td>4360.69</td>\n",
       "      <td>-0.004339</td>\n",
       "      <td>0.011745</td>\n",
       "    </tr>\n",
       "    <tr>\n",
       "      <th>3</th>\n",
       "      <td>2017-08-17 04:45:00</td>\n",
       "      <td>4310.07</td>\n",
       "      <td>4313.62</td>\n",
       "      <td>4291.37</td>\n",
       "      <td>4308.83</td>\n",
       "      <td>13.948531</td>\n",
       "      <td>4285.4575</td>\n",
       "      <td>NaN</td>\n",
       "      <td>NaN</td>\n",
       "      <td>4292.077280</td>\n",
       "      <td>...</td>\n",
       "      <td>NaN</td>\n",
       "      <td>NaN</td>\n",
       "      <td>27.708780</td>\n",
       "      <td>NaN</td>\n",
       "      <td>22.25</td>\n",
       "      <td>52.30</td>\n",
       "      <td>4315.32</td>\n",
       "      <td>4360.69</td>\n",
       "      <td>0.001506</td>\n",
       "      <td>0.012036</td>\n",
       "    </tr>\n",
       "    <tr>\n",
       "      <th>4</th>\n",
       "      <td>2017-08-17 05:00:00</td>\n",
       "      <td>4308.83</td>\n",
       "      <td>4328.69</td>\n",
       "      <td>4304.31</td>\n",
       "      <td>4304.31</td>\n",
       "      <td>5.101153</td>\n",
       "      <td>4296.1650</td>\n",
       "      <td>NaN</td>\n",
       "      <td>NaN</td>\n",
       "      <td>4296.970368</td>\n",
       "      <td>...</td>\n",
       "      <td>0.01005</td>\n",
       "      <td>NaN</td>\n",
       "      <td>23.275334</td>\n",
       "      <td>NaN</td>\n",
       "      <td>24.38</td>\n",
       "      <td>67.37</td>\n",
       "      <td>4330.00</td>\n",
       "      <td>4360.00</td>\n",
       "      <td>0.005968</td>\n",
       "      <td>0.012938</td>\n",
       "    </tr>\n",
       "  </tbody>\n",
       "</table>\n",
       "<p>5 rows × 27 columns</p>\n",
       "</div>"
      ],
      "text/plain": [
       "             timestamp     open     high      low    close     volume  \\\n",
       "0  2017-08-17 04:00:00  4261.48  4280.56  4261.48  4261.48   2.189061   \n",
       "1  2017-08-17 04:15:00  4261.48  4270.41  4261.32  4261.45   9.119865   \n",
       "2  2017-08-17 04:30:00  4280.00  4310.07  4267.99  4310.07  21.923552   \n",
       "3  2017-08-17 04:45:00  4310.07  4313.62  4291.37  4308.83  13.948531   \n",
       "4  2017-08-17 05:00:00  4308.83  4328.69  4304.31  4304.31   5.101153   \n",
       "\n",
       "      SMA_1h  SMA_4h  SMA_1d       EMA_1h  ...  price_change_1h  \\\n",
       "0        NaN     NaN     NaN  4261.480000  ...              NaN   \n",
       "1        NaN     NaN     NaN  4261.468000  ...              NaN   \n",
       "2        NaN     NaN     NaN  4280.908800  ...              NaN   \n",
       "3  4285.4575     NaN     NaN  4292.077280  ...              NaN   \n",
       "4  4296.1650     NaN     NaN  4296.970368  ...          0.01005   \n",
       "\n",
       "   price_change_4h  volatility_1h  volatility_4h  high_low_diff_15m  \\\n",
       "0              NaN            NaN            NaN              19.08   \n",
       "1              NaN            NaN            NaN               9.09   \n",
       "2              NaN            NaN            NaN              42.08   \n",
       "3              NaN      27.708780            NaN              22.25   \n",
       "4              NaN      23.275334            NaN              24.38   \n",
       "\n",
       "   high_low_diff_1h  target_price_1h  target_price_4h  target_change_1h  \\\n",
       "0               NaN          4304.31          4360.71          0.010050   \n",
       "1               NaN          4320.00          4360.70          0.013739   \n",
       "2               NaN          4291.37          4360.69         -0.004339   \n",
       "3             52.30          4315.32          4360.69          0.001506   \n",
       "4             67.37          4330.00          4360.00          0.005968   \n",
       "\n",
       "   target_change_4h  \n",
       "0          0.023285  \n",
       "1          0.023290  \n",
       "2          0.011745  \n",
       "3          0.012036  \n",
       "4          0.012938  \n",
       "\n",
       "[5 rows x 27 columns]"
      ]
     },
     "execution_count": 14,
     "metadata": {},
     "output_type": "execute_result"
    }
   ],
   "source": [
    "df.head()"
   ]
  },
  {
   "cell_type": "code",
   "execution_count": null,
   "id": "c4c67cab-ccd1-4c77-9128-4611153446e8",
   "metadata": {},
   "outputs": [],
   "source": []
  }
 ],
 "metadata": {
  "kernelspec": {
   "display_name": "Python 3 (ipykernel)",
   "language": "python",
   "name": "python3"
  },
  "language_info": {
   "codemirror_mode": {
    "name": "ipython",
    "version": 3
   },
   "file_extension": ".py",
   "mimetype": "text/x-python",
   "name": "python",
   "nbconvert_exporter": "python",
   "pygments_lexer": "ipython3",
   "version": "3.12.4"
  }
 },
 "nbformat": 4,
 "nbformat_minor": 5
}
