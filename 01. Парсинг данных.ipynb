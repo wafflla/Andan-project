{
 "cells": [
  {
   "cell_type": "code",
   "execution_count": null,
   "id": "9c8a422e-ac1b-4623-92bf-aea277f1ea38",
   "metadata": {},
   "outputs": [
    {
     "name": "stdout",
     "output_type": "stream",
     "text": [
      "            timestamp     open     high      low    close     volume\n",
      "0 2017-08-17 04:00:00  4261.48  4280.56  4261.48  4261.48   2.189061\n",
      "1 2017-08-17 04:15:00  4261.48  4270.41  4261.32  4261.45   9.119865\n",
      "2 2017-08-17 04:30:00  4280.00  4310.07  4267.99  4310.07  21.923552\n",
      "3 2017-08-17 04:45:00  4310.07  4313.62  4291.37  4308.83  13.948531\n",
      "4 2017-08-17 05:00:00  4308.83  4328.69  4304.31  4304.31   5.101153\n",
      "Количество строк: 263384\n"
     ]
    }
   ],
   "source": [
    "import ccxt\n",
    "import pandas as pd\n",
    "import time\n",
    "\n",
    "binance = ccxt.binance()\n",
    "symbol = 'BTC/USDT'\n",
    "timeframe = '15m' \n",
    "\n",
    "since = binance.parse8601('2017-01-01T00:00:00Z')\n",
    "all_ohlcv = []\n",
    "\n",
    "\n",
    "while True:\n",
    "    ohlcv = binance.fetch_ohlcv(symbol, timeframe, since=since)\n",
    "    if len(ohlcv) == 0:\n",
    "        break\n",
    "\n",
    "    all_ohlcv += ohlcv\n",
    "    since = ohlcv[-1][0] + 1 \n",
    "    time.sleep(1) \n",
    "\n",
    "df = pd.DataFrame(all_ohlcv, columns=['timestamp', 'open', 'high', 'low', 'close', 'volume'])\n",
    "df['timestamp'] = pd.to_datetime(df['timestamp'], unit='ms')\n",
    "\n",
    "df.to_csv('bitcoin_historical_data.csv', index=False)\n",
    "\n",
    "print(df.head())\n",
    "print(f\"Количество строк: {len(df)}\")"
   ]
  },
  {
   "cell_type": "code",
   "execution_count": 41,
   "id": "d15ebc7c-e427-4f75-bffd-9cbfdb65eeba",
   "metadata": {},
   "outputs": [
    {
     "data": {
      "text/html": [
       "<a href='bitcoin_historical_data.csv' target='_blank'>bitcoin_historical_data.csv</a><br>"
      ],
      "text/plain": [
       "/Users/macbook/bitcoin_historical_data.csv"
      ]
     },
     "execution_count": 41,
     "metadata": {},
     "output_type": "execute_result"
    }
   ],
   "source": [
    "from IPython.display import FileLink\n",
    "FileLink('bitcoin_historical_data.csv')"
   ]
  }
 ],
 "metadata": {
  "kernelspec": {
   "display_name": "Python 3 (ipykernel)",
   "language": "python",
   "name": "python3"
  },
  "language_info": {
   "codemirror_mode": {
    "name": "ipython",
    "version": 3
   },
   "file_extension": ".py",
   "mimetype": "text/x-python",
   "name": "python",
   "nbconvert_exporter": "python",
   "pygments_lexer": "ipython3",
   "version": "3.12.4"
  }
 },
 "nbformat": 4,
 "nbformat_minor": 5
}
