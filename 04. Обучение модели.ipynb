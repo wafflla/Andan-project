{
 "cells": [
  {
   "cell_type": "markdown",
   "metadata": {},
   "source": [
    "Из визуализации мы заметили, что если %K и MACD оба имеют высокие/низкие значения, то изменение цены будет положительное/отрицательное. Тогда мы можем построить модель, которая при высоких значениях показателей будет прогнозировать рост цены, а при низких - её падение (в иных случаях на основе этих данных прогнозировать движение цены сложно) "
   ]
  },
  {
   "cell_type": "code",
   "execution_count": 18,
   "metadata": {},
   "outputs": [],
   "source": [
    "import pandas as pd\n",
    "import numpy as np\n",
    "import matplotlib.pyplot as plt\n",
    "import seaborn as sns\n",
    "\n",
    "import warnings\n",
    "warnings.filterwarnings(\"ignore\")"
   ]
  },
  {
   "cell_type": "code",
   "execution_count": 19,
   "metadata": {},
   "outputs": [],
   "source": [
    "df = pd.read_csv('data.csv')"
   ]
  },
  {
   "cell_type": "code",
   "execution_count": 20,
   "metadata": {},
   "outputs": [],
   "source": [
    "df['timestamp'] = pd.to_datetime(df['timestamp'])\n",
    "df.set_index('timestamp', inplace=True)"
   ]
  },
  {
   "cell_type": "code",
   "execution_count": 21,
   "metadata": {},
   "outputs": [],
   "source": [
    "df.drop(columns=['Low_n','High_n','EMA_short', 'EMA_long','UpperBand_5h', 'LowerBand_5h', 'date','high_low_diff_15m',\n",
    "       'high_low_diff_1h'], inplace=True)"
   ]
  },
  {
   "cell_type": "code",
   "execution_count": 22,
   "metadata": {},
   "outputs": [],
   "source": [
    "def predict(df: pd.DataFrame):\n",
    "  predictions = np.empty(df.shape[0], dtype=object)\n",
    "  threshold = 0.5\n",
    "  K = df['%K']\n",
    "  MACD = df['MACD_Histogram']\n",
    "  for i in range(df.shape[0]):\n",
    "    if K[i] > 80 and MACD[i] > threshold:\n",
    "      predictions[i] = 1\n",
    "    if K[i] < 20 and MACD[i] < -threshold: \n",
    "      predictions[i] = -1\n",
    "    else:\n",
    "      predictions[i] = 0\n",
    "  return predictions"
   ]
  },
  {
   "cell_type": "code",
   "execution_count": 23,
   "metadata": {},
   "outputs": [],
   "source": [
    "def accuracy_score(y_true, y_pred) -> float:\n",
    "    y_true = np.asarray(y_true).reshape(-1, 1)\n",
    "    y_pred = np.asarray(y_pred).reshape(-1, 1)\n",
    "    return (y_true == y_pred).mean()"
   ]
  },
  {
   "cell_type": "code",
   "execution_count": 25,
   "metadata": {},
   "outputs": [
    {
     "name": "stdout",
     "output_type": "stream",
     "text": [
      "Accuracy for growth/fall predictions: 0.86\n"
     ]
    }
   ],
   "source": [
    "df['direction'] = np.where(df['target_change_15m_pct'] > 0, 1, -1)\n",
    "\n",
    "predictions = predict(df)\n",
    "df['predictions'] = predictions\n",
    "\n",
    "filtered_df = df[(df['predictions'] != 0)]\n",
    "accuracy_filtered = accuracy_score(filtered_df['direction'], filtered_df['predictions'])\n",
    "\n",
    "print(f\"Accuracy for growth/fall predictions: {accuracy_filtered:.2f}\")"
   ]
  },
  {
   "cell_type": "markdown",
   "metadata": {},
   "source": []
  }
 ],
 "metadata": {
  "kernelspec": {
   "display_name": "Python 3",
   "language": "python",
   "name": "python3"
  },
  "language_info": {
   "codemirror_mode": {
    "name": "ipython",
    "version": 3
   },
   "file_extension": ".py",
   "mimetype": "text/x-python",
   "name": "python",
   "nbconvert_exporter": "python",
   "pygments_lexer": "ipython3",
   "version": "3.12.2"
  }
 },
 "nbformat": 4,
 "nbformat_minor": 2
}
